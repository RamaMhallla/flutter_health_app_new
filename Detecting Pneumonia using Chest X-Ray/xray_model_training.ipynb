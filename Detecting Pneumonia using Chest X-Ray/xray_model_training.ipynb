{
  "nbformat": 4,
  "nbformat_minor": 0,
  "metadata": {
    "colab": {
      "provenance": []
    },
    "kernelspec": {
      "name": "python3",
      "display_name": "Python 3"
    },
    "language_info": {
      "name": "python"
    }
  },
  "cells": [
    {
      "cell_type": "code",
      "execution_count": null,
      "metadata": {
        "colab": {
          "base_uri": "https://localhost:8080/"
        },
        "id": "fEhJGZ4nlgHv",
        "outputId": "4755cb68-e16a-4fb5-d583-57d3c3c1e2f8"
      },
      "outputs": [
        {
          "output_type": "stream",
          "name": "stdout",
          "text": [
            "Mounted at /content/drive\n"
          ]
        }
      ],
      "source": [
        "from google.colab import drive\n",
        "drive.mount('/content/drive')\n"
      ]
    },
    {
      "cell_type": "code",
      "source": [],
      "metadata": {
        "id": "931pZ6G7t_L4"
      },
      "execution_count": null,
      "outputs": []
    },
    {
      "cell_type": "code",
      "source": [
        "!ls -l /content/chest_xray\n"
      ],
      "metadata": {
        "colab": {
          "base_uri": "https://localhost:8080/"
        },
        "id": "Rb01bB24uAOa",
        "outputId": "6c9d0b12-41db-4b50-f91d-f665b9d038cd"
      },
      "execution_count": null,
      "outputs": [
        {
          "output_type": "stream",
          "name": "stdout",
          "text": [
            "total 4\n",
            "drwxr-xr-x 7 root root 4096 Jul  2 15:02 chest_xray\n"
          ]
        }
      ]
    },
    {
      "cell_type": "code",
      "source": [
        "import tensorflow as tf\n",
        "from tensorflow.keras.preprocessing.image import ImageDataGenerator\n",
        "from tensorflow.keras import layers, models\n",
        "import numpy as np\n"
      ],
      "metadata": {
        "id": "aU2Tjb2vuJ4R"
      },
      "execution_count": null,
      "outputs": []
    },
    {
      "cell_type": "code",
      "source": [
        "train_dir = '/content/chest_xray_clean/train'\n",
        "val_dir = '/content/chest_xray_clean/val'\n",
        "test_dir = '/content/chest_xray_clean/test'\n"
      ],
      "metadata": {
        "id": "DNCBcaabuOF3"
      },
      "execution_count": null,
      "outputs": []
    },
    {
      "cell_type": "code",
      "source": [
        "IMG_SIZE = (150, 150)  # حجم الصورة لتصغير الدخل\n",
        "\n",
        "train_datagen = ImageDataGenerator(rescale=1./255,\n",
        "                                   rotation_range=20,\n",
        "                                   zoom_range=0.15,\n",
        "                                   width_shift_range=0.2,\n",
        "                                   height_shift_range=0.2,\n",
        "                                   shear_range=0.15,\n",
        "                                   horizontal_flip=True,\n",
        "                                   fill_mode=\"nearest\")\n",
        "\n",
        "val_datagen = ImageDataGenerator(rescale=1./255)\n",
        "\n",
        "train_generator = train_datagen.flow_from_directory(\n",
        "    train_dir,\n",
        "    target_size=IMG_SIZE,\n",
        "    batch_size=32,\n",
        "    class_mode='binary')\n",
        "\n",
        "val_generator = val_datagen.flow_from_directory(\n",
        "    val_dir,\n",
        "    target_size=IMG_SIZE,\n",
        "    batch_size=32,\n",
        "    class_mode='binary')\n"
      ],
      "metadata": {
        "colab": {
          "base_uri": "https://localhost:8080/"
        },
        "id": "Y2em2WbTuRQQ",
        "outputId": "b7c670ec-0ab6-4285-89b1-dc412fc881c8"
      },
      "execution_count": null,
      "outputs": [
        {
          "output_type": "stream",
          "name": "stdout",
          "text": [
            "Found 5216 images belonging to 2 classes.\n",
            "Found 16 images belonging to 2 classes.\n"
          ]
        }
      ]
    },
    {
      "cell_type": "code",
      "source": [
        "model = models.Sequential([\n",
        " layers.Input(shape=(*IMG_SIZE, 3)),  # طبقة الإدخال هنا\n",
        "    layers.Conv2D(32, (3,3), activation='relu'),    layers.MaxPooling2D(2,2),\n",
        "    layers.Conv2D(64, (3,3), activation='relu'),\n",
        "    layers.MaxPooling2D(2,2),\n",
        "    layers.Conv2D(128, (3,3), activation='relu'),\n",
        "    layers.MaxPooling2D(2,2),\n",
        "    layers.Flatten(),\n",
        "    layers.Dense(512, activation='relu'),\n",
        "    layers.Dense(1, activation='sigmoid')  # binary classification\n",
        "])\n"
      ],
      "metadata": {
        "id": "sqVsjhrQuVnX"
      },
      "execution_count": null,
      "outputs": []
    },
    {
      "cell_type": "code",
      "source": [
        "model.compile(loss='binary_crossentropy',\n",
        "              optimizer='adam',\n",
        "              metrics=['accuracy'])\n"
      ],
      "metadata": {
        "id": "BJhO0ggKu8NB"
      },
      "execution_count": null,
      "outputs": []
    },
    {
      "cell_type": "code",
      "source": [
        "history = model.fit(\n",
        "    train_generator,\n",
        "    epochs=10,\n",
        "    validation_data=val_generator\n",
        ")\n"
      ],
      "metadata": {
        "colab": {
          "base_uri": "https://localhost:8080/"
        },
        "id": "r2XxciN8u90f",
        "outputId": "31085006-2772-49b5-b03c-a0e1ffd2779a"
      },
      "execution_count": null,
      "outputs": [
        {
          "output_type": "stream",
          "name": "stderr",
          "text": [
            "/usr/local/lib/python3.11/dist-packages/keras/src/trainers/data_adapters/py_dataset_adapter.py:121: UserWarning: Your `PyDataset` class should call `super().__init__(**kwargs)` in its constructor. `**kwargs` can include `workers`, `use_multiprocessing`, `max_queue_size`. Do not pass these arguments to `fit()`, as they will be ignored.\n",
            "  self._warn_if_super_not_called()\n"
          ]
        },
        {
          "output_type": "stream",
          "name": "stdout",
          "text": [
            "Epoch 1/10\n",
            "\u001b[1m163/163\u001b[0m \u001b[32m━━━━━━━━━━━━━━━━━━━━\u001b[0m\u001b[37m\u001b[0m \u001b[1m377s\u001b[0m 2s/step - accuracy: 0.7144 - loss: 0.6106 - val_accuracy: 0.6250 - val_loss: 0.7243\n",
            "Epoch 2/10\n",
            "\u001b[1m163/163\u001b[0m \u001b[32m━━━━━━━━━━━━━━━━━━━━\u001b[0m\u001b[37m\u001b[0m \u001b[1m384s\u001b[0m 2s/step - accuracy: 0.8572 - loss: 0.3211 - val_accuracy: 0.6875 - val_loss: 0.6488\n",
            "Epoch 3/10\n",
            "\u001b[1m163/163\u001b[0m \u001b[32m━━━━━━━━━━━━━━━━━━━━\u001b[0m\u001b[37m\u001b[0m \u001b[1m437s\u001b[0m 2s/step - accuracy: 0.8832 - loss: 0.2655 - val_accuracy: 0.6250 - val_loss: 0.9510\n",
            "Epoch 4/10\n",
            "\u001b[1m163/163\u001b[0m \u001b[32m━━━━━━━━━━━━━━━━━━━━\u001b[0m\u001b[37m\u001b[0m \u001b[1m375s\u001b[0m 2s/step - accuracy: 0.9044 - loss: 0.2247 - val_accuracy: 0.7500 - val_loss: 0.7364\n",
            "Epoch 5/10\n",
            "\u001b[1m163/163\u001b[0m \u001b[32m━━━━━━━━━━━━━━━━━━━━\u001b[0m\u001b[37m\u001b[0m \u001b[1m382s\u001b[0m 2s/step - accuracy: 0.9091 - loss: 0.2136 - val_accuracy: 0.7500 - val_loss: 0.6171\n",
            "Epoch 6/10\n",
            "\u001b[1m163/163\u001b[0m \u001b[32m━━━━━━━━━━━━━━━━━━━━\u001b[0m\u001b[37m\u001b[0m \u001b[1m377s\u001b[0m 2s/step - accuracy: 0.9242 - loss: 0.1886 - val_accuracy: 0.8125 - val_loss: 0.3802\n",
            "Epoch 7/10\n",
            "\u001b[1m163/163\u001b[0m \u001b[32m━━━━━━━━━━━━━━━━━━━━\u001b[0m\u001b[37m\u001b[0m \u001b[1m397s\u001b[0m 2s/step - accuracy: 0.9090 - loss: 0.2159 - val_accuracy: 0.8125 - val_loss: 0.5590\n",
            "Epoch 8/10\n",
            "\u001b[1m163/163\u001b[0m \u001b[32m━━━━━━━━━━━━━━━━━━━━\u001b[0m\u001b[37m\u001b[0m \u001b[1m426s\u001b[0m 3s/step - accuracy: 0.9275 - loss: 0.1753 - val_accuracy: 0.8125 - val_loss: 0.4108\n",
            "Epoch 9/10\n",
            "\u001b[1m163/163\u001b[0m \u001b[32m━━━━━━━━━━━━━━━━━━━━\u001b[0m\u001b[37m\u001b[0m \u001b[1m400s\u001b[0m 2s/step - accuracy: 0.9179 - loss: 0.1906 - val_accuracy: 0.6875 - val_loss: 0.7075\n",
            "Epoch 10/10\n",
            "\u001b[1m163/163\u001b[0m \u001b[32m━━━━━━━━━━━━━━━━━━━━\u001b[0m\u001b[37m\u001b[0m \u001b[1m370s\u001b[0m 2s/step - accuracy: 0.9362 - loss: 0.1654 - val_accuracy: 0.8125 - val_loss: 0.6654\n"
          ]
        }
      ]
    },
    {
      "cell_type": "code",
      "source": [
        "# حفظ النموذج بصيغة H5\n",
        "model.save('chest_xray_model.h5')\n",
        "\n",
        "# تحويل النموذج إلى TFLite\n",
        "converter = tf.lite.TFLiteConverter.from_keras_model(model)\n",
        "tflite_model = converter.convert()\n",
        "\n",
        "# حفظ النموذج بصيغة TFLite\n",
        "with open('chest_xray_model.tflite', 'wb') as f:\n",
        "    f.write(tflite_model)\n",
        "\n",
        "print(\"TFLite model saved!\")\n"
      ],
      "metadata": {
        "colab": {
          "base_uri": "https://localhost:8080/"
        },
        "id": "i836ctDI-M6l",
        "outputId": "b2a7100f-fcba-4a9f-db2d-fddf62435faf"
      },
      "execution_count": null,
      "outputs": [
        {
          "output_type": "stream",
          "name": "stderr",
          "text": [
            "WARNING:absl:You are saving your model as an HDF5 file via `model.save()` or `keras.saving.save_model(model)`. This file format is considered legacy. We recommend using instead the native Keras format, e.g. `model.save('my_model.keras')` or `keras.saving.save_model(model, 'my_model.keras')`. \n"
          ]
        },
        {
          "output_type": "stream",
          "name": "stdout",
          "text": [
            "Saved artifact at '/tmp/tmp8n4zdysv'. The following endpoints are available:\n",
            "\n",
            "* Endpoint 'serve'\n",
            "  args_0 (POSITIONAL_ONLY): TensorSpec(shape=(None, 150, 150, 3), dtype=tf.float32, name='keras_tensor_10')\n",
            "Output Type:\n",
            "  TensorSpec(shape=(None, 1), dtype=tf.float32, name=None)\n",
            "Captures:\n",
            "  138408302250704: TensorSpec(shape=(), dtype=tf.resource, name=None)\n",
            "  138408302251280: TensorSpec(shape=(), dtype=tf.resource, name=None)\n",
            "  138408302251856: TensorSpec(shape=(), dtype=tf.resource, name=None)\n",
            "  138408302252432: TensorSpec(shape=(), dtype=tf.resource, name=None)\n",
            "  138408302251664: TensorSpec(shape=(), dtype=tf.resource, name=None)\n",
            "  138408302253200: TensorSpec(shape=(), dtype=tf.resource, name=None)\n",
            "  138408302252624: TensorSpec(shape=(), dtype=tf.resource, name=None)\n",
            "  138408302253968: TensorSpec(shape=(), dtype=tf.resource, name=None)\n",
            "  138408302253392: TensorSpec(shape=(), dtype=tf.resource, name=None)\n",
            "  138408302254736: TensorSpec(shape=(), dtype=tf.resource, name=None)\n",
            "TFLite model saved!\n"
          ]
        }
      ]
    },
    {
      "cell_type": "code",
      "source": [
        "import zipfile\n",
        "import os\n",
        "\n",
        "zip_path = '/content/drive/MyDrive/archive.zip'  # غيّر هذا المسار حسب موقع ملفك في درايف\n",
        "extract_path = '/content/chest_xray'  # مجلد تودع فيه الملفات المفكوكة\n",
        "\n",
        "# تأكد من إنشاء مجلد الإخراج\n",
        "os.makedirs(extract_path, exist_ok=True)\n",
        "\n",
        "# فك الضغط\n",
        "with zipfile.ZipFile(zip_path, 'r') as zip_ref:\n",
        "    zip_ref.extractall(extract_path)\n",
        "\n",
        "print('✅ Extraction completed!')\n"
      ],
      "metadata": {
        "colab": {
          "base_uri": "https://localhost:8080/"
        },
        "id": "NJws4DYoqEQK",
        "outputId": "25907ece-ab7f-4908-f43c-fdffd69cb51e"
      },
      "execution_count": null,
      "outputs": [
        {
          "output_type": "stream",
          "name": "stdout",
          "text": [
            "✅ Extraction completed!\n"
          ]
        }
      ]
    },
    {
      "cell_type": "code",
      "source": [
        "import os\n",
        "\n",
        "for root, dirs, files in os.walk('/content/chest_xray'):\n",
        "    print(f'Folder: {root}')\n",
        "    print(f'Contains {len(files)} files\\n')\n"
      ],
      "metadata": {
        "colab": {
          "base_uri": "https://localhost:8080/"
        },
        "id": "xkl93_UFqcHj",
        "outputId": "2c2ffc7b-02bc-48d2-e0c9-65365b7751ff"
      },
      "execution_count": null,
      "outputs": [
        {
          "output_type": "stream",
          "name": "stdout",
          "text": [
            "Folder: /content/chest_xray\n",
            "Contains 0 files\n",
            "\n",
            "Folder: /content/chest_xray/chest_xray\n",
            "Contains 0 files\n",
            "\n",
            "Folder: /content/chest_xray/chest_xray/__MACOSX\n",
            "Contains 1 files\n",
            "\n",
            "Folder: /content/chest_xray/chest_xray/__MACOSX/chest_xray\n",
            "Contains 3 files\n",
            "\n",
            "Folder: /content/chest_xray/chest_xray/__MACOSX/chest_xray/val\n",
            "Contains 1 files\n",
            "\n",
            "Folder: /content/chest_xray/chest_xray/__MACOSX/chest_xray/val/PNEUMONIA\n",
            "Contains 9 files\n",
            "\n",
            "Folder: /content/chest_xray/chest_xray/__MACOSX/chest_xray/val/NORMAL\n",
            "Contains 9 files\n",
            "\n",
            "Folder: /content/chest_xray/chest_xray/__MACOSX/chest_xray/test\n",
            "Contains 3 files\n",
            "\n",
            "Folder: /content/chest_xray/chest_xray/__MACOSX/chest_xray/test/PNEUMONIA\n",
            "Contains 390 files\n",
            "\n",
            "Folder: /content/chest_xray/chest_xray/__MACOSX/chest_xray/test/NORMAL\n",
            "Contains 234 files\n",
            "\n",
            "Folder: /content/chest_xray/chest_xray/__MACOSX/chest_xray/train\n",
            "Contains 3 files\n",
            "\n",
            "Folder: /content/chest_xray/chest_xray/__MACOSX/chest_xray/train/PNEUMONIA\n",
            "Contains 3876 files\n",
            "\n",
            "Folder: /content/chest_xray/chest_xray/__MACOSX/chest_xray/train/NORMAL\n",
            "Contains 1342 files\n",
            "\n",
            "Folder: /content/chest_xray/chest_xray/val\n",
            "Contains 0 files\n",
            "\n",
            "Folder: /content/chest_xray/chest_xray/val/PNEUMONIA\n",
            "Contains 8 files\n",
            "\n",
            "Folder: /content/chest_xray/chest_xray/val/NORMAL\n",
            "Contains 8 files\n",
            "\n",
            "Folder: /content/chest_xray/chest_xray/test\n",
            "Contains 0 files\n",
            "\n",
            "Folder: /content/chest_xray/chest_xray/test/PNEUMONIA\n",
            "Contains 390 files\n",
            "\n",
            "Folder: /content/chest_xray/chest_xray/test/NORMAL\n",
            "Contains 234 files\n",
            "\n",
            "Folder: /content/chest_xray/chest_xray/train\n",
            "Contains 0 files\n",
            "\n",
            "Folder: /content/chest_xray/chest_xray/train/PNEUMONIA\n",
            "Contains 3875 files\n",
            "\n",
            "Folder: /content/chest_xray/chest_xray/train/NORMAL\n",
            "Contains 1341 files\n",
            "\n",
            "Folder: /content/chest_xray/chest_xray/chest_xray\n",
            "Contains 1 files\n",
            "\n",
            "Folder: /content/chest_xray/chest_xray/chest_xray/val\n",
            "Contains 1 files\n",
            "\n",
            "Folder: /content/chest_xray/chest_xray/chest_xray/val/PNEUMONIA\n",
            "Contains 9 files\n",
            "\n",
            "Folder: /content/chest_xray/chest_xray/chest_xray/val/NORMAL\n",
            "Contains 9 files\n",
            "\n",
            "Folder: /content/chest_xray/chest_xray/chest_xray/test\n",
            "Contains 1 files\n",
            "\n",
            "Folder: /content/chest_xray/chest_xray/chest_xray/test/PNEUMONIA\n",
            "Contains 390 files\n",
            "\n",
            "Folder: /content/chest_xray/chest_xray/chest_xray/test/NORMAL\n",
            "Contains 234 files\n",
            "\n",
            "Folder: /content/chest_xray/chest_xray/chest_xray/train\n",
            "Contains 1 files\n",
            "\n",
            "Folder: /content/chest_xray/chest_xray/chest_xray/train/PNEUMONIA\n",
            "Contains 3876 files\n",
            "\n",
            "Folder: /content/chest_xray/chest_xray/chest_xray/train/NORMAL\n",
            "Contains 1342 files\n",
            "\n"
          ]
        }
      ]
    },
    {
      "cell_type": "code",
      "source": [
        "import shutil\n",
        "import os\n",
        "\n",
        "src = '/content/chest_xray/chest_xray/chest_xray'\n",
        "dst = '/content/chest_xray_clean'\n",
        "\n",
        "# انسخ فقط المجلدات train, val, test للوجهة الجديدة\n",
        "shutil.copytree(src, dst)\n"
      ],
      "metadata": {
        "colab": {
          "base_uri": "https://localhost:8080/",
          "height": 35
        },
        "id": "8UYHX35ZqpbT",
        "outputId": "cb565fa7-5a57-47dc-bb44-a881183dc89e"
      },
      "execution_count": null,
      "outputs": [
        {
          "output_type": "execute_result",
          "data": {
            "text/plain": [
              "'/content/chest_xray_clean'"
            ],
            "application/vnd.google.colaboratory.intrinsic+json": {
              "type": "string"
            }
          },
          "metadata": {},
          "execution_count": 4
        }
      ]
    }
  ]
}